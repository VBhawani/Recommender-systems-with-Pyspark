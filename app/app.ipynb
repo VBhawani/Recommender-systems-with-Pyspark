{
 "cells": [
  {
   "cell_type": "code",
   "execution_count": 1,
   "metadata": {},
   "outputs": [],
   "source": [
    "from pyspark.sql import SparkSession\n",
    "\n",
    "spark = SparkSession.builder.appName(\"Movie Recommendation App\").getOrCreate()"
   ]
  },
  {
   "cell_type": "markdown",
   "metadata": {},
   "source": [
    "Importing csv files"
   ]
  },
  {
   "cell_type": "code",
   "execution_count": 2,
   "metadata": {},
   "outputs": [
    {
     "name": "stdout",
     "output_type": "stream",
     "text": [
      "+-------+--------------------+--------------------+\n",
      "|movieId|               title|              genres|\n",
      "+-------+--------------------+--------------------+\n",
      "|      1|    Toy Story (1995)|Adventure|Animati...|\n",
      "|      2|      Jumanji (1995)|Adventure|Childre...|\n",
      "|      3|Grumpier Old Men ...|      Comedy|Romance|\n",
      "|      4|Waiting to Exhale...|Comedy|Drama|Romance|\n",
      "|      5|Father of the Bri...|              Comedy|\n",
      "+-------+--------------------+--------------------+\n",
      "only showing top 5 rows\n",
      "\n",
      "+------+-------+------+---------+\n",
      "|userId|movieId|rating|timestamp|\n",
      "+------+-------+------+---------+\n",
      "|     1|      1|   4.0|964982703|\n",
      "|     1|      3|   4.0|964981247|\n",
      "|     1|      6|   4.0|964982224|\n",
      "|     1|     47|   5.0|964983815|\n",
      "|     1|     50|   5.0|964982931|\n",
      "+------+-------+------+---------+\n",
      "only showing top 5 rows\n",
      "\n"
     ]
    }
   ],
   "source": [
    "movies_df = spark.read.csv(\"./data/movies.csv\",header = True)\n",
    "ratings_df = spark.read.csv(\"./data/ratings.csv\",header= True)\n",
    "\n",
    "movies_df.show(5)\n",
    "ratings_df.show(5)\n"
   ]
  },
  {
   "cell_type": "code",
   "execution_count": 3,
   "metadata": {},
   "outputs": [
    {
     "name": "stdout",
     "output_type": "stream",
     "text": [
      "total Count:  100836\n",
      "Rating table columns:  ['userId', 'movieId', 'rating', 'timestamp']\n",
      "Total Users:  610\n",
      "Total movies:  9724\n"
     ]
    }
   ],
   "source": [
    "numonitor = ratings_df.count()\n",
    "print(\"total Count: \",numonitor)\n",
    "col = ratings_df.columns\n",
    "print(\"Rating table columns: \",col)\n",
    "user = ratings_df.select(\"userId\").distinct().count()\n",
    "print(\"Total Users: \",user)\n",
    "movie = ratings_df.select(\"movieId\").distinct().count()\n",
    "print(\"Total movies: \",movie)"
   ]
  },
  {
   "cell_type": "code",
   "execution_count": 4,
   "metadata": {},
   "outputs": [
    {
     "name": "stdout",
     "output_type": "stream",
     "text": [
      "98.30003169443864\n"
     ]
    }
   ],
   "source": [
    "#check sparsity of data : the condition where a large percentage of data within a \n",
    "# dataset is missing or is set to zero.\n",
    "denominator = user * movie\n",
    "sparsity = (1.0 - (numonitor *1.0)/denominator)* 100\n",
    "print(sparsity)"
   ]
  },
  {
   "cell_type": "code",
   "execution_count": 5,
   "metadata": {},
   "outputs": [
    {
     "name": "stdout",
     "output_type": "stream",
     "text": [
      "9742\n",
      "100836\n"
     ]
    }
   ],
   "source": [
    "# drop rows with missing values\n",
    "movies_df = movies_df.dropna()\n",
    "ratings_df = ratings_df.dropna()\n",
    "print(movies_df.count())\n",
    "print(ratings_df.count())"
   ]
  },
  {
   "cell_type": "code",
   "execution_count": 6,
   "metadata": {},
   "outputs": [
    {
     "name": "stdout",
     "output_type": "stream",
     "text": [
      "root\n",
      " |-- userId: string (nullable = true)\n",
      " |-- movieId: string (nullable = true)\n",
      " |-- rating: string (nullable = true)\n",
      " |-- timestamp: string (nullable = true)\n",
      "\n"
     ]
    }
   ],
   "source": [
    "#check data schema\n",
    "ratings_df.printSchema()"
   ]
  },
  {
   "cell_type": "code",
   "execution_count": 7,
   "metadata": {},
   "outputs": [
    {
     "name": "stdout",
     "output_type": "stream",
     "text": [
      "root\n",
      " |-- userId: integer (nullable = true)\n",
      " |-- movieId: integer (nullable = true)\n",
      " |-- rating: double (nullable = true)\n",
      "\n",
      "+------+-------+------+\n",
      "|userId|movieId|rating|\n",
      "+------+-------+------+\n",
      "|     1|      1|   4.0|\n",
      "|     1|      3|   4.0|\n",
      "|     1|      6|   4.0|\n",
      "|     1|     47|   5.0|\n",
      "|     1|     50|   5.0|\n",
      "+------+-------+------+\n",
      "only showing top 5 rows\n",
      "\n"
     ]
    }
   ],
   "source": [
    "#convert string to integer and double\n",
    "ratings_df = ratings_df.select(ratings_df.userId.cast(\"integer\"), ratings_df.movieId.cast(\"integer\"), \n",
    "                               ratings_df.rating.cast(\"double\"))\n",
    "ratings_df.printSchema()\n",
    "ratings_df.show(5)"
   ]
  },
  {
   "cell_type": "code",
   "execution_count": 36,
   "metadata": {},
   "outputs": [
    {
     "name": "stdout",
     "output_type": "stream",
     "text": [
      "+------+-------+------+----------+\n",
      "|userId|movieId|rating|prediction|\n",
      "+------+-------+------+----------+\n",
      "|   463|   1088|   3.5| 3.9745536|\n",
      "|   580|   3175|   2.5|  3.567155|\n",
      "|   580|  44022|   3.5|  3.616548|\n",
      "|   362|   1645|   5.0|  4.039502|\n",
      "|   597|   1959|   4.0| 4.2054834|\n",
      "|   155|   3175|   4.0| 3.7744727|\n",
      "|   368|   2122|   2.0| 2.1551127|\n",
      "|   115|   1645|   4.0| 2.7881613|\n",
      "|   115|   3175|   4.0| 3.8374147|\n",
      "|    28|   1645|   2.5| 2.9010844|\n",
      "|    28|   3175|   1.5| 2.9563844|\n",
      "|   587|   1580|   4.0| 3.7444701|\n",
      "|   332|   1645|   3.5| 3.0612357|\n",
      "|   332|   2366|   3.5| 3.5639892|\n",
      "|   577|   1580|   3.0| 3.3973541|\n",
      "|   577|   1959|   4.0| 3.5664096|\n",
      "|   271|   6658|   2.0| 2.5463045|\n",
      "|   606|   1088|   3.0|   3.39345|\n",
      "|    91|   1580|   3.5| 3.3952494|\n",
      "|    91|   6620|   3.5| 2.9556072|\n",
      "+------+-------+------+----------+\n",
      "only showing top 20 rows\n",
      "\n"
     ]
    }
   ],
   "source": [
    "from pyspark.ml.recommendation import ALS\n",
    "from pyspark.ml.evaluation import RegressionEvaluator\n",
    "\n",
    "(train, test) = ratings_df.randomSplit([0.8,0.2], seed=42)\n",
    "\n",
    "als = ALS(regParam= 0.1,maxIter=20, userCol=\"userId\", itemCol=\"movieId\", ratingCol=\"rating\", nonnegative= True,coldStartStrategy=\"drop\")\n",
    "\n",
    "model = als.fit(train)\n",
    "\n",
    "prediction = model.transform(test)\n",
    "prediction.show()\n",
    "\n"
   ]
  },
  {
   "cell_type": "code",
   "execution_count": 35,
   "metadata": {},
   "outputs": [
    {
     "name": "stdout",
     "output_type": "stream",
     "text": [
      "Root Mean Squared Error (RMSE): 0.874706776453848\n"
     ]
    }
   ],
   "source": [
    "# Calculate Root Mean Squared Error \n",
    "evaluator = RegressionEvaluator(metricName=\"rmse\", labelCol=\"rating\", predictionCol=\"prediction\")\n",
    "rmse = evaluator.evaluate(prediction)\n",
    "\n",
    "print(f\"Root Mean Squared Error (RMSE): {rmse}\")"
   ]
  },
  {
   "cell_type": "code",
   "execution_count": 19,
   "metadata": {},
   "outputs": [
    {
     "name": "stdout",
     "output_type": "stream",
     "text": [
      "+-----------------------------------------------------------------------------------------------------------------------------+\n",
      "|title                                                                                                                        |\n",
      "+-----------------------------------------------------------------------------------------------------------------------------+\n",
      "|Dragon Ball Z: The History of Trunks (Doragon bôru Z: Zetsubô e no hankô!! Nokosareta chô senshi - Gohan to Torankusu) (1993)|\n",
      "|On the Beach (1959)                                                                                                          |\n",
      "|Yojimbo (1961)                                                                                                               |\n",
      "|Cosmos                                                                                                                       |\n",
      "|Band of Brothers (2001)                                                                                                      |\n",
      "|Thesis (Tesis) (1996)                                                                                                        |\n",
      "|Best of Youth, The (La meglio gioventù) (2003)                                                                               |\n",
      "|Patton (1970)                                                                                                                |\n",
      "|Charlie Brown Christmas, A (1965)                                                                                            |\n",
      "|Three Billboards Outside Ebbing, Missouri (2017)                                                                             |\n",
      "+-----------------------------------------------------------------------------------------------------------------------------+\n",
      "\n"
     ]
    }
   ],
   "source": [
    "\n",
    "user_id = 1\n",
    "user_ratings = ratings_df.filter(ratings_df.userId == user_id)\n",
    "\n",
    "recommendations = model.recommendForUserSubset(user_ratings, 10)\n",
    "\n",
    "\n",
    "from pyspark.sql.functions import explode\n",
    "\n",
    "# Extract movieId from the recommendations (as it's in an array)\n",
    "recommended_movie_ids = recommendations.select(explode(\"recommendations.movieId\").alias(\"movieId\"))\n",
    "\n",
    "# Step 3: Join the exploded movieIds with movies_df to get the movie titles\n",
    "recommended_movies = recommended_movie_ids.join(movies_df, on=\"movieId\", how=\"left_outer\")\n",
    "\n",
    "# Step 4: Show the recommended movie titles\n",
    "recommended_movies.select(\"title\").show(truncate=False)\n"
   ]
  },
  {
   "cell_type": "code",
   "execution_count": 37,
   "metadata": {},
   "outputs": [],
   "source": [
    "spark.stop()"
   ]
  }
 ],
 "metadata": {
  "kernelspec": {
   "display_name": "Python 3",
   "language": "python",
   "name": "python3"
  },
  "language_info": {
   "codemirror_mode": {
    "name": "ipython",
    "version": 3
   },
   "file_extension": ".py",
   "mimetype": "text/x-python",
   "name": "python",
   "nbconvert_exporter": "python",
   "pygments_lexer": "ipython3",
   "version": "3.11.9"
  }
 },
 "nbformat": 4,
 "nbformat_minor": 2
}
